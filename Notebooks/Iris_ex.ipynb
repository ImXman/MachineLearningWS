{
 "cells": [
  {
   "cell_type": "code",
   "execution_count": null,
   "metadata": {
    "collapsed": true
   },
   "outputs": [],
   "source": [
    "from sklearn import tree\n",
    "from sklearn.datasets import load_iris\n",
    "from sklearn.model_selection import train_test_split\n",
    "from sklearn import metrics\n",
    "import helper_func as hp"
   ]
  },
  {
   "cell_type": "code",
   "execution_count": null,
   "metadata": {
    "collapsed": true
   },
   "outputs": [],
   "source": [
    "## Decision Tree Classifier - Iris Example \n",
    "## Modified from scikit-learn tutorials\n",
    "def dtIrisExample():\n",
    "\tiris = load_iris()\n",
    "\tX = iris.data\n",
    "\ty = iris.target\n",
    "\tX_train,X_test,y_train,y_test = train_test_split(X,y,random_state=5)\n",
    "\tclf = tree.DecisionTreeClassifier()\n",
    "\tclf = clf.fit(X_train,y_train)\n",
    "\tpred = clf.predict(X_test)\n",
    "\tprint(\"Accuracy: %.2f\" % metrics.accuracy_score(pred,y_test))\n",
    "\thp.saveTree(clf,\"iris_dt.pkl\")\n",
    "\tclf = hp.loadTree(\"iris_dt.pkl\")\n",
    "\thp.visualizeTree(clf,iris.feature_names,iris.target_names,\"Iris\")\n",
    "    return None"
   ]
  },
  {
   "cell_type": "code",
   "execution_count": null,
   "metadata": {
    "collapsed": true
   },
   "outputs": [],
   "source": [
    "if __name__==\"__main__\":\n",
    "    dtIrisExample()"
   ]
  }
 ],
 "metadata": {
  "kernelspec": {
   "display_name": "Python 2",
   "language": "python",
   "name": "python2"
  },
  "language_info": {
   "codemirror_mode": {
    "name": "ipython",
    "version": 2
   },
   "file_extension": ".py",
   "mimetype": "text/x-python",
   "name": "python",
   "nbconvert_exporter": "python",
   "pygments_lexer": "ipython2",
   "version": "2.7.13"
  }
 },
 "nbformat": 4,
 "nbformat_minor": 2
}
