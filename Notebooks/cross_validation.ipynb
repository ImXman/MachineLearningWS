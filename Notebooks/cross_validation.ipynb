{
 "cells": [
  {
   "cell_type": "code",
   "execution_count": null,
   "metadata": {
    "collapsed": true
   },
   "outputs": [],
   "source": [
    "from sklearn import tree\n",
    "from sklearn.datasets import load_iris\n",
    "from sklearn.model_selection import train_test_split,cross_val_score\n",
    "import sys\n",
    "from numpy import mean"
   ]
  },
  {
   "cell_type": "code",
   "execution_count": null,
   "metadata": {
    "collapsed": true
   },
   "outputs": [],
   "source": [
    "def dtKFoldCrossVal(cv):\n",
    "\tiris = load_iris()\n",
    "\tX = iris.data\n",
    "\ty = iris.target\n",
    "\tX_train,X_test,y_train,y_test = train_test_split(X,y)\n",
    "\tclf = tree.DecisionTreeClassifier()\n",
    "\tscores = cross_val_score(clf, X_train, y_train, cv=cv, scoring='accuracy')\n",
    "    return scores"
   ]
  },
  {
   "cell_type": "code",
   "execution_count": null,
   "metadata": {
    "collapsed": true
   },
   "outputs": [],
   "source": [
    "if __name__ == \"__main__\":\n",
    "\tcv = 10\n",
    "\tif len(sys.argv) > 1:\n",
    "\t\tcv = int(sys.argv[1])\n",
    "\tscores = dtKFoldCrossVal(cv)\n",
    "    print(\"Average accuracy score from %d-fold cross validation: %.2f\"%(cv,mean(scores)))"
   ]
  }
 ],
 "metadata": {
  "kernelspec": {
   "display_name": "Python 2",
   "language": "python",
   "name": "python2"
  },
  "language_info": {
   "codemirror_mode": {
    "name": "ipython",
    "version": 2
   },
   "file_extension": ".py",
   "mimetype": "text/x-python",
   "name": "python",
   "nbconvert_exporter": "python",
   "pygments_lexer": "ipython2",
   "version": "2.7.13"
  }
 },
 "nbformat": 4,
 "nbformat_minor": 2
}
