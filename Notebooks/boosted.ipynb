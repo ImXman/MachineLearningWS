{
 "cells": [
  {
   "cell_type": "code",
   "execution_count": null,
   "metadata": {
    "collapsed": true
   },
   "outputs": [],
   "source": [
    "from sklearn import tree\n",
    "from sklearn.datasets import load_iris\n",
    "from sklearn.model_selection import train_test_split\n",
    "from sklearn.ensemble import AdaBoostClassifier\n",
    "from sklearn import metrics\n",
    "import pandas as pd\n",
    "import numpy as np \n",
    "import matplotlib.pyplot as plt "
   ]
  },
  {
   "cell_type": "code",
   "execution_count": null,
   "metadata": {
    "collapsed": true
   },
   "outputs": [],
   "source": [
    "def dtBoosted():\n",
    "\t##breast cancer dataset\n",
    "\tdataframe = pd.read_csv('filter_set_gcrma.csv')\n",
    "\tarray = dataframe.values\n",
    "\tX= array[:,0:1256] ##1256 variable genes\n",
    "\ty=array[:,1321] ##labels\n",
    "\t\n",
    "\t##split data set into train and test datasets\n",
    "\tX_train, X_test, y_train, y_test = train_test_split(X, y, test_size=0.2,random_state=7)\n",
    "\t\n",
    "\t# param_dist = {\n",
    "\t#  'n_estimators': [50, 300],\n",
    "\t#  'learning_rate' : [0.01,0.05,0.1,0.2,0.3,0.5,1.0,2.0],\n",
    "\t#  'algorithm' : ['SAMME', 'SAMME.R']\n",
    "\t#  }\n",
    "\t#clf_boosted = RandomizedSearchCV(AdaBoostClassifier(base_estimator=clf),param_distributions = param_dist,cv=3,n_iter = 10)\n",
    "\t\n",
    "\t## Create a base decision tree.\n",
    "\tclf = tree.DecisionTreeClassifier(class_weight=\"balanced\")\n",
    "\n",
    "\tclf_boosted = AdaBoostClassifier(base_estimator=clf,random_state = 7)\n",
    "\tclf_boosted.fit(X_train,y_train)\n",
    "\ty_pred=clf_boosted.predict(X_test)\n",
    "\ty_pred_prob=clf_boosted.predict_proba(X_test)\n",
    "\tprint(\"Accuracy: %.2f\"  % metrics.accuracy_score(y_test, y_pred))\n",
    "\n",
    "\t## Print confusion matrix.\n",
    "\t## Contains True Positives (TP), True Negatives (TN), False Positives (FP), and False Negatives (FP)\n",
    "\tcfs = metrics.confusion_matrix(y_test, y_pred)\n",
    "\tprint(cfs)\n",
    "\tTP = cfs[1, 1]\n",
    "\tTN = cfs[0, 0]\n",
    "\tFP = cfs[0, 1]\n",
    "\tFN = cfs[1, 0]\n",
    "\n",
    "\t## Get the recall, which is the TP/(TP+FN)\n",
    "\tprint(\"Recall: %.2f\"  % metrics.recall_score(y_test, y_pred))\n",
    "\n",
    "\t## Get the precision, which is the TP/(TP+FP)\n",
    "\tprint(\"Precision: %.2f\"  % metrics.precision_score(y_test, y_pred))\n",
    "\n",
    "\n",
    "\tprint(metrics.roc_auc_score(y_test, y_pred_prob[:,1]))\n",
    "\n",
    "\tfpr, tpr, thresholds = metrics.roc_curve(y_test, y_pred_prob[:,1])\n",
    "\tplt.plot(fpr, tpr)\n",
    "\tplt.xlim([0.0, 1.0])\n",
    "\tplt.ylim([0.0, 1.0])\n",
    "\tplt.rcParams['font.size'] = 12\n",
    "\tplt.title('ROC curve for cancer classifier')\n",
    "\tplt.xlabel('False Positive Rate (1 - Specificity)')\n",
    "\tplt.ylabel('True Positive Rate (Sensitivity)')\n",
    "\tplt.grid(True)\n",
    "\tplt.show()\n",
    "\n",
    "\t## Compare performance to \n",
    "\tboosted_scores = []\n",
    "\tscores = []\n",
    "\ttrain_size = np.arange(0.01,0.5,0.01)\n",
    "\tfor i in train_size:\n",
    "\t\tX_train, X_test, y_train, y_test = train_test_split(X, y, train_size=i, random_state=7)\n",
    "\t\tclf_boosted= clf_boosted.fit(X_train,y_train)\n",
    "\t\tpred = clf_boosted.predict(X_test)\n",
    "\t\tboosted_scores.append(metrics.accuracy_score(pred,y_test))\n",
    "\t\tclf = clf.fit(X_train,y_train)\n",
    "\t\tpred = clf.predict(X_test)\n",
    "\t\tscores.append(metrics.accuracy_score(pred,y_test))\n",
    "\t\t\n",
    "\treg, = plt.plot(train_size,scores,\"-\",label=\"Decision Tree\")\n",
    "\tboost, = plt.plot(train_size,boosted_scores,\"-\",color=\"red\",label=\"Boosted\")\n",
    "\tplt.title('Decision Tree Performance:\\nVarying size of Training Data')\n",
    "\tplt.xlabel('Training Set Size')\n",
    "\tplt.ylabel('Accuracy')\n",
    "\tplt.legend(handles=[reg,boost])\n",
    "\tplt.show()\n",
    "return None"
   ]
  },
  {
   "cell_type": "code",
   "execution_count": null,
   "metadata": {
    "collapsed": true
   },
   "outputs": [],
   "source": [
    "if __name__ == \"__main__\":\n",
    "dtBoosted()"
   ]
  },
  {
   "cell_type": "code",
   "execution_count": null,
   "metadata": {
    "collapsed": true
   },
   "outputs": [],
   "source": []
  },
  {
   "cell_type": "code",
   "execution_count": null,
   "metadata": {
    "collapsed": true
   },
   "outputs": [],
   "source": []
  },
  {
   "cell_type": "code",
   "execution_count": null,
   "metadata": {
    "collapsed": true
   },
   "outputs": [],
   "source": []
  },
  {
   "cell_type": "code",
   "execution_count": null,
   "metadata": {
    "collapsed": true
   },
   "outputs": [],
   "source": []
  },
  {
   "cell_type": "code",
   "execution_count": null,
   "metadata": {
    "collapsed": true
   },
   "outputs": [],
   "source": []
  },
  {
   "cell_type": "code",
   "execution_count": null,
   "metadata": {
    "collapsed": true
   },
   "outputs": [],
   "source": []
  },
  {
   "cell_type": "code",
   "execution_count": null,
   "metadata": {
    "collapsed": true
   },
   "outputs": [],
   "source": []
  }
 ],
 "metadata": {
  "kernelspec": {
   "display_name": "Python 2",
   "language": "python",
   "name": "python2"
  },
  "language_info": {
   "codemirror_mode": {
    "name": "ipython",
    "version": 2
   },
   "file_extension": ".py",
   "mimetype": "text/x-python",
   "name": "python",
   "nbconvert_exporter": "python",
   "pygments_lexer": "ipython2",
   "version": "2.7.13"
  }
 },
 "nbformat": 4,
 "nbformat_minor": 2
}
